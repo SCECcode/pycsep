{
  "cells": [
    {
      "cell_type": "markdown",
      "metadata": {},
      "source": [
        "\n# Working with catalog-based forecasts\n\nThis example shows some basic interactions with data-based forecasts. We will load in a forecast stored in the CSEP\ndata format, and compute the expected rates on a 0.1\u00b0 x 0.1\u00b0 grid covering the state of California. We will plot the\nexpected rates in the spatial cells.\n\nOverview:\n    1. Define forecast properties (time horizon, spatial region, etc).\n    2. Compute the expected rates in space and magnitude bins\n    3. Plot expected rates in the spatial cells\n"
      ]
    },
    {
      "cell_type": "markdown",
      "metadata": {},
      "source": [
        "## Load required libraries\n\nMost of the core functionality can be imported from the top-level :mod:`csep` package. Utilities are available from the\n:mod:`csep.utils` subpackage.\n\n"
      ]
    },
    {
      "cell_type": "code",
      "execution_count": null,
      "metadata": {
        "collapsed": false
      },
      "outputs": [],
      "source": [
        "import numpy\n\nimport csep\nfrom csep.core import regions\nfrom csep.utils import datasets"
      ]
    },
    {
      "cell_type": "markdown",
      "metadata": {},
      "source": [
        "## Load data forecast\n\nPyCSEP contains some basic forecasts that can be used to test of the functionality of the package. This forecast has already \nbeen filtered to the California RELM region.\n\n"
      ]
    },
    {
      "cell_type": "code",
      "execution_count": null,
      "metadata": {
        "collapsed": false
      },
      "outputs": [],
      "source": [
        "forecast = csep.load_catalog_forecast(datasets.ucerf3_ascii_format_landers_fname)"
      ]
    },
    {
      "cell_type": "markdown",
      "metadata": {},
      "source": [
        "## Define spatial and magnitude regions\n\nBefore we can compute the bin-wise rates we need to define a spatial region and a set of magnitude bin edges. The magnitude\nbin edges # are the lower bound (inclusive) except for the last bin, which is treated as extending to infinity. We can\nbind these # to the forecast object. This can also be done by passing them as keyword arguments\ninto :func:`csep.load_catalog_forecast`.\n\n"
      ]
    },
    {
      "cell_type": "code",
      "execution_count": null,
      "metadata": {
        "collapsed": false
      },
      "outputs": [],
      "source": [
        "# Magnitude bins properties\nmin_mw = 4.95\nmax_mw = 8.95\ndmw = 0.1\n\n# Create space and magnitude regions\nmagnitudes = regions.magnitude_bins(min_mw, max_mw, dmw)\nregion = regions.california_relm_region()\n\n# Bind region information to the forecast (this will be used for binning of the catalogs)\nforecast.region = regions.create_space_magnitude_region(region, magnitudes)"
      ]
    },
    {
      "cell_type": "markdown",
      "metadata": {},
      "source": [
        "## Compute spatial event counts\n\nThe :class:`csep.core.forecasts.CatalogForecast` provides a method to compute the expected number of events in spatial cells. This \nrequires a region with magnitude information. \n\n"
      ]
    },
    {
      "cell_type": "code",
      "execution_count": null,
      "metadata": {
        "collapsed": false
      },
      "outputs": [],
      "source": [
        "_ = forecast.get_expected_rates(verbose=True)"
      ]
    },
    {
      "cell_type": "markdown",
      "metadata": {},
      "source": [
        "## Plot expected event counts\n\nWe can plot the expected event counts the same way that we plot a :class:`csep.core.forecasts.GriddedForecast`\n\n"
      ]
    },
    {
      "cell_type": "code",
      "execution_count": null,
      "metadata": {
        "collapsed": false
      },
      "outputs": [],
      "source": [
        "ax = forecast.expected_rates.plot(plot_args={'clim': [-3.5, 0]}, show=True)"
      ]
    },
    {
      "cell_type": "markdown",
      "metadata": {},
      "source": [
        "The images holes in the image are due to under-sampling from the forecast.\n\n"
      ]
    },
    {
      "cell_type": "markdown",
      "metadata": {},
      "source": [
        "## Quick sanity check\n\nThe forecasts were filtered to the spatial region so all events should be binned. We loop through each data in the forecast and\ncount the number of events and compare that with the expected rates. The expected rate is an average in each space-magnitude bin, so\nwe have to multiply this value by the number of catalogs in the forecast.\n\n"
      ]
    },
    {
      "cell_type": "code",
      "execution_count": null,
      "metadata": {
        "collapsed": false
      },
      "outputs": [],
      "source": [
        "total_events = 0\nfor catalog in forecast:\n    total_events += catalog.event_count\nnumpy.testing.assert_allclose(total_events, forecast.expected_rates.sum() * forecast.n_cat)"
      ]
    }
  ],
  "metadata": {
    "kernelspec": {
      "display_name": "Python 3",
      "language": "python",
      "name": "python3"
    },
    "language_info": {
      "codemirror_mode": {
        "name": "ipython",
        "version": 3
      },
      "file_extension": ".py",
      "mimetype": "text/x-python",
      "name": "python",
      "nbconvert_exporter": "python",
      "pygments_lexer": "ipython3",
      "version": "3.9.21"
    }
  },
  "nbformat": 4,
  "nbformat_minor": 0
}