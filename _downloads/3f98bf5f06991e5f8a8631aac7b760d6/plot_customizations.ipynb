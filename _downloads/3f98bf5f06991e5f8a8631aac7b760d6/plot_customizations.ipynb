{
  "cells": [
    {
      "cell_type": "markdown",
      "metadata": {},
      "source": [
        "\n# Plot customizations\n\nThis example shows how to include some advanced options in the spatial visualization\nof Gridded Forecasts and Evaluation Results\n\nOverview:\n    1. Define optional plotting arguments\n    2. Set extent of maps\n    3. Visualizing selected magnitude bins\n    4. Plot global maps\n    5. Plot multiple Evaluation Results\n"
      ]
    },
    {
      "cell_type": "markdown",
      "metadata": {},
      "source": [
        "## Example 1: Spatial dataset plot arguments\n\n"
      ]
    },
    {
      "cell_type": "markdown",
      "metadata": {},
      "source": [
        "**Load required libraries**\n\n"
      ]
    },
    {
      "cell_type": "code",
      "execution_count": null,
      "metadata": {
        "collapsed": false
      },
      "outputs": [],
      "source": [
        "import csep\nimport cartopy\nimport numpy\nfrom csep.utils import datasets, plots\n\nimport matplotlib.pyplot as plt"
      ]
    },
    {
      "cell_type": "markdown",
      "metadata": {},
      "source": [
        "**Load a Grid Forecast from the datasets**\n\n\n"
      ]
    },
    {
      "cell_type": "code",
      "execution_count": null,
      "metadata": {
        "collapsed": false
      },
      "outputs": [],
      "source": [
        "forecast = csep.load_gridded_forecast(datasets.hires_ssm_italy_fname,\n                                      name='Werner, et al (2010) Italy')"
      ]
    },
    {
      "cell_type": "markdown",
      "metadata": {},
      "source": [
        "**Selecting plotting arguments**\n\nCreate a dictionary containing the plot arguments\n\n"
      ]
    },
    {
      "cell_type": "code",
      "execution_count": null,
      "metadata": {
        "collapsed": false
      },
      "outputs": [],
      "source": [
        "args_dict = {'title': 'Italy 10 year forecast',\n             'grid_labels': True,\n             'borders': True,\n             'feature_lw': 0.5,\n             'basemap': 'ESRI_imagery',\n             'cmap': 'rainbow',\n             'alpha_exp': 0.8,\n             'projection': cartopy.crs.Mercator()}"
      ]
    },
    {
      "cell_type": "markdown",
      "metadata": {},
      "source": [
        "These arguments are, in order:\n\n* Assign a title\n* Set labels to the geographic axes\n* Draw country borders\n* Set a linewidth of 0.5 to country borders\n* Select ESRI Imagery as a basemap.\n* Assign ``'rainbow'`` as colormap. Possible values from from ``matplotlib.cm`` library\n* Defines 0.8 for an exponential transparency function (default is 0 for constant alpha, whereas 1 for linear).\n* An object cartopy.crs.Projection() is passed as Projection to the map\n\nThe complete description of plot arguments can be found in :func:`csep.utils.plots.plot_spatial_dataset`\n\n"
      ]
    },
    {
      "cell_type": "markdown",
      "metadata": {},
      "source": [
        "**Plotting the dataset**\n\nThe map `extent` can be defined. Otherwise, the extent of the data would be used. The dictionary defined must be passed as argument\n\n"
      ]
    },
    {
      "cell_type": "code",
      "execution_count": null,
      "metadata": {
        "collapsed": false
      },
      "outputs": [],
      "source": [
        "ax = forecast.plot(extent=[3, 22, 35, 48],\n                   show=True,\n                   plot_args=args_dict)"
      ]
    },
    {
      "cell_type": "markdown",
      "metadata": {},
      "source": [
        "## Example 2: Plot a global forecast and a selected magnitude bin range\n\n\n**Load a Global Forecast from the datasets**\n\nA downsampled version of the [GEAR1](http://peterbird.name/publications/2015_GEAR1/2015_GEAR1.htm) forecast can be found in datasets.\n\n"
      ]
    },
    {
      "cell_type": "code",
      "execution_count": null,
      "metadata": {
        "collapsed": false
      },
      "outputs": [],
      "source": [
        "forecast = csep.load_gridded_forecast(datasets.gear1_downsampled_fname,\n                                      name='GEAR1 Forecast (downsampled)')"
      ]
    },
    {
      "cell_type": "markdown",
      "metadata": {},
      "source": [
        "**Filter by magnitudes**\n\nWe get the rate of events of 5.95<=M_w<=7.5\n\n"
      ]
    },
    {
      "cell_type": "code",
      "execution_count": null,
      "metadata": {
        "collapsed": false
      },
      "outputs": [],
      "source": [
        "low_bound = 6.15\nupper_bound = 7.55\nmw_bins = forecast.get_magnitudes()\nmw_ind = numpy.where(numpy.logical_and( mw_bins >= low_bound, mw_bins <= upper_bound))[0]\nrates_mw = forecast.data[:, mw_ind]"
      ]
    },
    {
      "cell_type": "markdown",
      "metadata": {},
      "source": [
        "We get the total rate between these magnitudes\n\n"
      ]
    },
    {
      "cell_type": "code",
      "execution_count": null,
      "metadata": {
        "collapsed": false
      },
      "outputs": [],
      "source": [
        "rate_sum = rates_mw.sum(axis=1)"
      ]
    },
    {
      "cell_type": "markdown",
      "metadata": {},
      "source": [
        "The data is stored in a 1D array, so it should be projected into `region` 2D cartesian grid.\n\n"
      ]
    },
    {
      "cell_type": "code",
      "execution_count": null,
      "metadata": {
        "collapsed": false
      },
      "outputs": [],
      "source": [
        "rate_sum = forecast.region.get_cartesian(rate_sum)"
      ]
    },
    {
      "cell_type": "markdown",
      "metadata": {},
      "source": [
        "**Define plot arguments**\n\nWe define the arguments and a global projection, centered at $lon=-180$\n\n"
      ]
    },
    {
      "cell_type": "code",
      "execution_count": null,
      "metadata": {
        "collapsed": false
      },
      "outputs": [],
      "source": [
        "plot_args = {'figsize': (10,6), 'coastline':True, 'feature_color':'black',\n             'projection': cartopy.crs.Robinson(central_longitude=180.0),\n             'title': forecast.name, 'grid_labels': False,\n             'cmap': 'magma',\n             'clabel': r'$\\log_{10}\\lambda\\left(M_w \\in [{%.2f},\\,{%.2f}]\\right)$ per '\n                       r'${%.1f}^\\circ\\times {%.1f}^\\circ $ per forecast period' %\n                       (low_bound, upper_bound, forecast.region.dh, forecast.region.dh)}"
      ]
    },
    {
      "cell_type": "markdown",
      "metadata": {},
      "source": [
        "**Plotting the dataset**\nTo plot a global forecast, we must assign the option ``set_global=True``, which is required by :ref:cartopy to handle\ninternally the extent of the plot\n\n"
      ]
    },
    {
      "cell_type": "code",
      "execution_count": null,
      "metadata": {
        "collapsed": false
      },
      "outputs": [],
      "source": [
        "ax = plots.plot_spatial_dataset(numpy.log10(rate_sum), forecast.region,\n                               show=True, set_global=True,\n                               plot_args=plot_args)"
      ]
    },
    {
      "cell_type": "markdown",
      "metadata": {},
      "source": [
        "## Example 3: Plot a catalog\n\n"
      ]
    },
    {
      "cell_type": "markdown",
      "metadata": {},
      "source": [
        "**Load a Catalog from ComCat**\n\n"
      ]
    },
    {
      "cell_type": "code",
      "execution_count": null,
      "metadata": {
        "collapsed": false
      },
      "outputs": [],
      "source": [
        "start_time = csep.utils.time_utils.strptime_to_utc_datetime('1995-01-01 00:00:00.0')\nend_time = csep.utils.time_utils.strptime_to_utc_datetime('2015-01-01 00:00:00.0')\nmin_mag = 3.95\ncatalog = csep.query_comcat(start_time, end_time, min_magnitude=min_mag, verbose=False)\n\n# **Define plotting arguments**\nplot_args = {'basemap': 'ESRI_terrain',\n             'markersize': 2,\n             'markercolor': 'red',\n             'alpha': 0.3,\n             'mag_scale': 7,\n             'legend': True,\n             'legend_loc': 3,\n             'mag_ticks': [4.0, 5.0, 6.0, 7.0]}"
      ]
    },
    {
      "cell_type": "markdown",
      "metadata": {},
      "source": [
        "These arguments are, in order:\n\n* Assign as basemap the ESRI_terrain webservice\n* Set minimum markersize of 2 with red color\n* Set a 0.3 transparency\n* mag_scale is used to exponentially scale the size with respect to magnitude. Recommended 1-8\n* Set legend True and location in 3 (lower-left corner)\n* Set a list of Magnitude ticks to display in the legend\n\nThe complete description of plot arguments can be found in :func:`csep.utils.plots.plot_catalog`\n\n"
      ]
    },
    {
      "cell_type": "code",
      "execution_count": null,
      "metadata": {
        "collapsed": false
      },
      "outputs": [],
      "source": [
        "# **Plot the catalog**\nax = catalog.plot(show=False, plot_args=plot_args)"
      ]
    },
    {
      "cell_type": "markdown",
      "metadata": {},
      "source": [
        "## Example 4: Plot multiple evaluation results\n\n"
      ]
    },
    {
      "cell_type": "markdown",
      "metadata": {},
      "source": [
        "Load L-test results from example .json files (See\n:doc:`gridded_forecast_evaluation` for information on calculating and storing evaluation results)\n\n"
      ]
    },
    {
      "cell_type": "code",
      "execution_count": null,
      "metadata": {
        "collapsed": false
      },
      "outputs": [],
      "source": [
        "L_results = [csep.load_evaluation_result(i) for i in datasets.l_test_examples]\nargs = {'figsize': (6,5),\n        'title': r'$\\mathcal{L}-\\mathrm{test}$',\n        'title_fontsize': 18,\n        'xlabel': 'Log-likelihood',\n        'xticks_fontsize': 9,\n        'ylabel_fontsize': 9,\n        'linewidth': 0.8,\n        'capsize': 3,\n        'hbars':True,\n        'tight_layout': True}"
      ]
    },
    {
      "cell_type": "markdown",
      "metadata": {},
      "source": [
        "Description of plot arguments can be found in :func:`plot_poisson_consistency_test`.\nWe set ``one_sided_lower=True`` as usual for an L-test, where the model is rejected if the observed\nis located within the lower tail of the simulated distribution.\n\n"
      ]
    },
    {
      "cell_type": "code",
      "execution_count": null,
      "metadata": {
        "collapsed": false
      },
      "outputs": [],
      "source": [
        "ax = plots.plot_poisson_consistency_test(L_results, one_sided_lower=True, plot_args=args)\n\n# Needed to show plots if running as script\nplt.show()"
      ]
    }
  ],
  "metadata": {
    "kernelspec": {
      "display_name": "Python 3",
      "language": "python",
      "name": "python3"
    },
    "language_info": {
      "codemirror_mode": {
        "name": "ipython",
        "version": 3
      },
      "file_extension": ".py",
      "mimetype": "text/x-python",
      "name": "python",
      "nbconvert_exporter": "python",
      "pygments_lexer": "ipython3",
      "version": "3.9.21"
    }
  },
  "nbformat": 4,
  "nbformat_minor": 0
}