{
  "cells": [
    {
      "cell_type": "markdown",
      "metadata": {},
      "source": [
        "\n\n# Quadtree Grid-based Forecast Evaluation\n\nThis example demonstrates how to create a quadtree based single resolution-grid and multi-resolution grid.\nMulti-resolution grid is created using earthquake catalog, in which seismic density determines the size of a grid cell. \nIn creating a multi-resolution grid we select a threshold ($N_{max}$) as a maximum number of earthquake in each cell.\nIn single-resolution grid, we simply select a zoom-level (L) that determines a single resolution grid.\nThe number of cells in single-resolution grid are equal to $4^L$. The zoom-level L=11 leads to 4.2 million cells, nearest to 0.1x0.1 grid.\n\nWe use these grids to create and evaluate a time-independent forecast. Grid-based\nforecasts assume the variability of the forecasts is Poissonian. Therefore, poisson-based evaluations\nshould be used to evaluate grid-based forecasts defined using quadtree regions.\n\nOverview:\n    1. Define spatial grids\n        - Multi-resolution grid\n        - Single-resolution grid\n    2. Load forecasts\n        - Multi-resolution forecast\n        - Single-resolution forecast\n    3. Load evaluation catalog\n    4. Apply Poissonian evaluations for both grid-based forecasts\n    5. Visualize evaluation results\n"
      ]
    },
    {
      "cell_type": "markdown",
      "metadata": {},
      "source": [
        "## Load required libraries\n\nMost of the core functionality can be imported from the top-level :mod:`csep` package. Utilities are available from the\n:mod:`csep.utils` subpackage.\n\n"
      ]
    },
    {
      "cell_type": "code",
      "execution_count": null,
      "metadata": {
        "collapsed": false
      },
      "outputs": [],
      "source": [
        "import numpy\nimport pandas\nfrom csep.core import poisson_evaluations as poisson\nfrom csep.utils import time_utils, plots\nfrom csep.core.regions import QuadtreeGrid2D\nfrom csep.core.forecasts import GriddedForecast\nfrom csep.utils.time_utils import decimal_year_to_utc_epoch\nfrom csep.core.catalogs import CSEPCatalog"
      ]
    },
    {
      "cell_type": "markdown",
      "metadata": {},
      "source": [
        "## Load Training Catalog for Multi-resolution grid\n\nWe define a multi-resolution quadtree using earthquake catalog. We load a training catalog in CSEP and use that catalog to create a multi-resolution grid.\nSometimes, we do not the catalog in exact format as requried by pyCSEP. So we can read a catalog using Pandas and convert it\ninto the format accepable by PyCSEP. Then we instantiate an object of class CSEPCatalog by calling function :func:`csep.core.regions.CSEPCatalog.from_dataframe`\n\n"
      ]
    },
    {
      "cell_type": "code",
      "execution_count": null,
      "metadata": {
        "collapsed": false
      },
      "outputs": [],
      "source": [
        "dfcat = pandas.read_csv('cat_train_2013.csv')\ncolumn_name_mapper = {\n    'lon': 'longitude',\n    'lat': 'latitude',\n    'mag': 'magnitude',\n    'index': 'id'\n    }\n\n# maps the column names to the dtype expected by the catalog class\ndfcat = dfcat.reset_index().rename(columns=column_name_mapper)\n\n# create the origin_times from decimal years\ndfcat['origin_time'] = dfcat.apply(lambda row: decimal_year_to_utc_epoch(row.year), axis=1)\n\n# create catalog from dataframe\ncatalog_train = CSEPCatalog.from_dataframe(dfcat)\nprint(catalog_train)"
      ]
    },
    {
      "cell_type": "markdown",
      "metadata": {},
      "source": [
        "## Define Multi-resolution Gridded Region\nNow use define a threshold for maximum number of earthquake allowed per cell, i.e. Nmax\nand call :func:`csep.core.regions.QuadtreeGrid_from_catalog` to create a multi-resolution grid.\nFor simplicity we assume only single magnitude bin, i.e. all the earthquakes greater than and equal to 5.95\n\n"
      ]
    },
    {
      "cell_type": "code",
      "execution_count": null,
      "metadata": {
        "collapsed": false
      },
      "outputs": [],
      "source": [
        "mbins = numpy.array([5.95])\nNmax = 25\nr_multi = QuadtreeGrid2D.from_catalog(catalog_train, Nmax, magnitudes=mbins)\nprint('Number of cells in Multi-resolution grid :', r_multi.num_nodes)"
      ]
    },
    {
      "cell_type": "markdown",
      "metadata": {},
      "source": [
        "## Define Single-resolution Gridded Region\n\nHere as an example we define a single resolution grid at zoom-level L=6. For this purpose \nwe call :func:`csep.core.regions.QuadtreeGrid2D_from_single_resolution` to create a single resolution grid.\n\n"
      ]
    },
    {
      "cell_type": "code",
      "execution_count": null,
      "metadata": {
        "collapsed": false
      },
      "outputs": [],
      "source": [
        "# For simplicity of example, we assume only single magnitude bin, \n# i.e. all the earthquakes greater than and equal to 5.95\n\nmbins = numpy.array([5.95])\nr_single = QuadtreeGrid2D.from_single_resolution(6, magnitudes=mbins)\nprint('Number of cells in Single-Resolution grid :', r_single.num_nodes)"
      ]
    },
    {
      "cell_type": "markdown",
      "metadata": {},
      "source": [
        "## Load forecast of multi-resolution grid\n\n"
      ]
    },
    {
      "cell_type": "code",
      "execution_count": null,
      "metadata": {
        "collapsed": false
      },
      "outputs": [],
      "source": [
        "# An example time-independent forecast had been created for this grid and provided the example forecast data set along with the main repository.\n# We load the time-independent global forecast which has time horizon of 1 year.   \n# The filepath is relative to the root directory of the package. You can specify any file location for your forecasts.\n\nforecast_data = numpy.loadtxt('example_rate_zoom=EQ10L11.csv')\n#Reshape forecast as Nx1 array\nforecast_data = forecast_data.reshape(-1,1)\n\nforecast_multi_grid = GriddedForecast(data = forecast_data, region = r_multi, magnitudes = mbins, name = 'Example Multi-res Forecast')\n\n#The loaded forecast is for 1 year. The test catalog we will use to evaluate is for 6 years. So we can rescale the forecast.\nprint(f\"expected event count before scaling: {forecast_multi_grid.event_count}\")\nforecast_multi_grid.scale(6)\nprint(f\"expected event count after scaling: {forecast_multi_grid.event_count}\")"
      ]
    },
    {
      "cell_type": "markdown",
      "metadata": {},
      "source": [
        "## Load forecast of single-resolution grid\n\n"
      ]
    },
    {
      "cell_type": "code",
      "execution_count": null,
      "metadata": {
        "collapsed": false
      },
      "outputs": [],
      "source": [
        "# We have already created a time-independent global forecast with time horizon of 1 year and provided with the reporsitory.   \n# The filepath is relative to the root directory of the package. You can specify any file location for your forecasts.\n\nforecast_data = numpy.loadtxt('example_rate_zoom=6.csv')\n#Reshape forecast as Nx1 array\nforecast_data = forecast_data.reshape(-1,1)\n\nforecast_single_grid = GriddedForecast(data = forecast_data, region = r_single, \n                                   magnitudes = mbins, name = 'Example Single-res Forecast')\n\n# The loaded forecast is for 1 year. The test catalog we will use is for 6 years. So we can rescale the forecast.\nprint(f\"expected event count before scaling: {forecast_single_grid.event_count}\")\nforecast_single_grid.scale(6)\nprint(f\"expected event count after scaling: {forecast_single_grid.event_count}\")"
      ]
    },
    {
      "cell_type": "markdown",
      "metadata": {},
      "source": [
        "## Load evaluation catalog\n\nWe have a test catalog stored here. We can read the test catalog as a pandas frame and convert it into a format that is acceptable to PyCSEP\nThen we instantiate an object of catalog\n\n"
      ]
    },
    {
      "cell_type": "code",
      "execution_count": null,
      "metadata": {
        "collapsed": false
      },
      "outputs": [],
      "source": [
        "dfcat = pandas.read_csv('cat_test.csv')\n\ncolumn_name_mapper = {\n    'lon': 'longitude',\n    'lat': 'latitude',\n    'mag': 'magnitude'\n    }\n\n# maps the column names to the dtype expected by the catalog class\ndfcat = dfcat.reset_index().rename(columns=column_name_mapper)\n# create the origin_times from decimal years\ndfcat['origin_time'] = dfcat.apply(lambda row: decimal_year_to_utc_epoch(row.year), axis=1)\n\n# create catalog from dataframe\ncatalog = CSEPCatalog.from_dataframe(dfcat)\nprint(catalog)"
      ]
    },
    {
      "cell_type": "markdown",
      "metadata": {},
      "source": [
        "## Compute Poisson spatial test and Number test\n\nSimply call the :func:`csep.core.poisson_evaluations.spatial_test`  and :func:`csep.core.poisson_evaluations.number_test` functions to evaluate the forecast using the specified\nevaluation catalog. The spatial test requires simulating from the Poisson forecast to provide uncertainty. The verbose\noption prints the status of the simulations to the standard output.\n\nNote: But before we use evaluation catalog, we need to link gridded region with observed catalog.\nSince we have two different grids here, so we do it separately for both grids.\n\n"
      ]
    },
    {
      "cell_type": "code",
      "execution_count": null,
      "metadata": {
        "collapsed": false
      },
      "outputs": [],
      "source": [
        "#For Multi-resolution grid, linking region to catalog.\ncatalog.region = forecast_multi_grid.region\nspatial_test_multi_res_result = poisson.spatial_test(forecast_multi_grid, catalog)\nnumber_test_multi_res_result = poisson.number_test(forecast_multi_grid, catalog)\n\n\n#For Single-resolution grid, linking region to catalog.\ncatalog.region = forecast_single_grid.region\nspatial_test_single_res_result = poisson.spatial_test(forecast_single_grid, catalog)\nnumber_test_single_res_result = poisson.number_test(forecast_single_grid, catalog)"
      ]
    },
    {
      "cell_type": "markdown",
      "metadata": {},
      "source": [
        "## Plot spatial test results\n\nWe provide the function :func:`csep.utils.plotting.plot_poisson_consistency_test` to visualize the evaluation results from\nconsistency tests.\n\n"
      ]
    },
    {
      "cell_type": "code",
      "execution_count": null,
      "metadata": {
        "collapsed": false
      },
      "outputs": [],
      "source": [
        "stest_result = [spatial_test_single_res_result, spatial_test_multi_res_result]\nax_spatial = plots.plot_poisson_consistency_test(stest_result,\n                                        plot_args={'xlabel': 'Spatial likelihood'})\n\nntest_result = [number_test_single_res_result, number_test_multi_res_result]\nax_number = plots.plot_poisson_consistency_test(ntest_result,\n                                        plot_args={'xlabel': 'Number of Earthquakes'})"
      ]
    }
  ],
  "metadata": {
    "kernelspec": {
      "display_name": "Python 3",
      "language": "python",
      "name": "python3"
    },
    "language_info": {
      "codemirror_mode": {
        "name": "ipython",
        "version": 3
      },
      "file_extension": ".py",
      "mimetype": "text/x-python",
      "name": "python",
      "nbconvert_exporter": "python",
      "pygments_lexer": "ipython3",
      "version": "3.9.21"
    }
  },
  "nbformat": 4,
  "nbformat_minor": 0
}