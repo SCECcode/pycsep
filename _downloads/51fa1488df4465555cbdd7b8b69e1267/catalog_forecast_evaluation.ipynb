{
  "cells": [
    {
      "cell_type": "markdown",
      "metadata": {},
      "source": [
        "\n\n# Catalog-based Forecast Evaluation\n\nThis example shows how to evaluate a catalog-based forecasting using the Number test. This test is the simplest of the\nevaluations.\n\nOverview:\n    1. Define forecast properties (time horizon, spatial region, etc).\n    2. Access catalog from ComCat\n    3. Filter catalog to be consistent with the forecast properties\n    4. Apply catalog-based number test to catalog\n    5. Visualize results for catalog-based forecast\n"
      ]
    },
    {
      "cell_type": "markdown",
      "metadata": {},
      "source": [
        "## Load required libraries\n\nMost of the core functionality can be imported from the top-level :mod:`csep` package. Utilities are available from the\n:mod:`csep.utils` subpackage.\n\n"
      ]
    },
    {
      "cell_type": "code",
      "execution_count": null,
      "metadata": {
        "collapsed": false
      },
      "outputs": [],
      "source": [
        "import csep\nfrom csep.core import regions, catalog_evaluations\nfrom csep.utils import datasets, time_utils"
      ]
    },
    {
      "cell_type": "markdown",
      "metadata": {},
      "source": [
        "## Define start and end times of forecast\n\nForecasts should define a time horizon in which they are valid. The choice is flexible for catalog-based forecasts, because\nthe catalogs can be filtered to accommodate multiple end-times. Conceptually, these should be separate forecasts.\n\n"
      ]
    },
    {
      "cell_type": "code",
      "execution_count": null,
      "metadata": {
        "collapsed": false
      },
      "outputs": [],
      "source": [
        "start_time = time_utils.strptime_to_utc_datetime(\"1992-06-28 11:57:35.0\")\nend_time = time_utils.strptime_to_utc_datetime(\"1992-07-28 11:57:35.0\")"
      ]
    },
    {
      "cell_type": "markdown",
      "metadata": {},
      "source": [
        "## Define spatial and magnitude regions\n\nBefore we can compute the bin-wise rates we need to define a spatial region and a set of magnitude bin edges. The magnitude\nbin edges # are the lower bound (inclusive) except for the last bin, which is treated as extending to infinity. We can\nbind these # to the forecast object. This can also be done by passing them as keyword arguments\ninto :func:`csep.load_catalog_forecast`.\n\n"
      ]
    },
    {
      "cell_type": "code",
      "execution_count": null,
      "metadata": {
        "collapsed": false
      },
      "outputs": [],
      "source": [
        "# Magnitude bins properties\nmin_mw = 4.95\nmax_mw = 8.95\ndmw = 0.1\n\n# Create space and magnitude regions. The forecast is already filtered in space and magnitude\nmagnitudes = regions.magnitude_bins(min_mw, max_mw, dmw)\nregion = regions.california_relm_region()\n\n# Bind region information to the forecast (this will be used for binning of the catalogs)\nspace_magnitude_region = regions.create_space_magnitude_region(region, magnitudes)"
      ]
    },
    {
      "cell_type": "markdown",
      "metadata": {},
      "source": [
        "## Load catalog forecast\n\nTo reduce the file size of this example, we've already filtered the catalogs to the appropriate magnitudes and\nspatial locations. The original forecast was computed for 1 year following the start date, so we still need to filter the\ncatalog in time. We can do this by passing a list of filtering arguments to the forecast or updating the class.\n\nBy default, the forecast loads catalogs on-demand, so the filters are applied as the catalog loads. On-demand means that\nuntil we loop over the forecast in some capacity, none of the catalogs are actually loaded.\n\nMore fine-grain control and optimizations can be achieved by creating a :class:`csep.core.forecasts.CatalogForecast` directly.\n\n"
      ]
    },
    {
      "cell_type": "code",
      "execution_count": null,
      "metadata": {
        "collapsed": false
      },
      "outputs": [],
      "source": [
        "forecast = csep.load_catalog_forecast(datasets.ucerf3_ascii_format_landers_fname,\n                                      start_time = start_time, end_time = end_time,\n                                      region = space_magnitude_region,\n                                      apply_filters = True)\n\n# Assign filters to forecast\nforecast.filters = [f'origin_time >= {forecast.start_epoch}', f'origin_time < {forecast.end_epoch}']"
      ]
    },
    {
      "cell_type": "markdown",
      "metadata": {},
      "source": [
        "## Obtain evaluation catalog from ComCat\n\nThe :class:`csep.core.forecasts.CatalogForecast` provides a method to compute the expected number of events in spatial cells. This \nrequires a region with magnitude information.\n\nWe need to filter the ComCat catalog to be consistent with the forecast. This can be done either through the ComCat API\nor using catalog filtering strings. Here we'll use the ComCat API to make the data access quicker for this example. We\nstill need to filter the observed catalog in space though.\n\n"
      ]
    },
    {
      "cell_type": "code",
      "execution_count": null,
      "metadata": {
        "collapsed": false
      },
      "outputs": [],
      "source": [
        "# Obtain Comcat catalog and filter to region.\ncomcat_catalog = csep.query_comcat(start_time, end_time, min_magnitude=forecast.min_magnitude)\n\n# Filter observed catalog using the same region as the forecast\ncomcat_catalog = comcat_catalog.filter_spatial(forecast.region)\nprint(comcat_catalog)\n\n# Plot the catalog\ncomcat_catalog.plot()"
      ]
    },
    {
      "cell_type": "markdown",
      "metadata": {},
      "source": [
        "## Perform number test\n\nWe can perform the Number test on the catalog based forecast using the observed catalog we obtained from Comcat.\n\n"
      ]
    },
    {
      "cell_type": "code",
      "execution_count": null,
      "metadata": {
        "collapsed": false
      },
      "outputs": [],
      "source": [
        "number_test_result = catalog_evaluations.number_test(forecast, comcat_catalog)"
      ]
    },
    {
      "cell_type": "markdown",
      "metadata": {},
      "source": [
        "## Plot number test result\n\nWe can create a simple visualization of the number test from the evaluation result class.\n\n"
      ]
    },
    {
      "cell_type": "code",
      "execution_count": null,
      "metadata": {
        "collapsed": false
      },
      "outputs": [],
      "source": [
        "ax = number_test_result.plot(show=True)"
      ]
    }
  ],
  "metadata": {
    "kernelspec": {
      "display_name": "Python 3",
      "language": "python",
      "name": "python3"
    },
    "language_info": {
      "codemirror_mode": {
        "name": "ipython",
        "version": 3
      },
      "file_extension": ".py",
      "mimetype": "text/x-python",
      "name": "python",
      "nbconvert_exporter": "python",
      "pygments_lexer": "ipython3",
      "version": "3.9.21"
    }
  },
  "nbformat": 4,
  "nbformat_minor": 0
}