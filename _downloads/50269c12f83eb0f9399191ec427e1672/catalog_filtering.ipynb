{
  "cells": [
    {
      "cell_type": "markdown",
      "metadata": {},
      "source": [
        "\n\n# Catalogs operations\n\nThis example demonstrates how to perform standard operations on a catalog. This example requires an internet\nconnection to access ComCat.\n\nOverview:\n    1. Load catalog from ComCat\n    2. Create filtering parameters in space, magnitude, and time\n    3. Filter catalog using desired filters\n    4. Write catalog to standard CSEP format\n"
      ]
    },
    {
      "cell_type": "markdown",
      "metadata": {},
      "source": [
        "## Load required libraries\n\nMost of the core functionality can be imported from the top-level :mod:`csep` package. Utilities are available from the\n:mod:`csep.utils` subpackage.\n\n"
      ]
    },
    {
      "cell_type": "code",
      "execution_count": null,
      "metadata": {
        "collapsed": false
      },
      "outputs": [],
      "source": [
        "import csep\nfrom csep.core import regions\nfrom csep.utils import time_utils, comcat\n# sphinx_gallery_thumbnail_path = '_static/CSEP2_Logo_CMYK.png'"
      ]
    },
    {
      "cell_type": "markdown",
      "metadata": {},
      "source": [
        "## Load catalog\n\nPyCSEP provides access to the ComCat web API using :func:`csep.query_comcat` and to the Bollettino Sismico Italiano\nAPI using :func:`csep.query_bsi`. These functions require a :class:`datetime.datetime` to specify the start and end\ndates.\n\n"
      ]
    },
    {
      "cell_type": "code",
      "execution_count": null,
      "metadata": {
        "collapsed": false
      },
      "outputs": [],
      "source": [
        "start_time = csep.utils.time_utils.strptime_to_utc_datetime('2019-01-01 00:00:00.0')\nend_time = csep.utils.time_utils.utc_now_datetime()\ncatalog = csep.query_comcat(start_time, end_time)\nprint(catalog)"
      ]
    },
    {
      "cell_type": "markdown",
      "metadata": {},
      "source": [
        "## Filter to magnitude range\n\nUse the :meth:`csep.core.catalogs.AbstractBaseCatalog.filter` to filter the catalog. The filter function uses the field\nnames stored in the numpy structured array. Standard fieldnames include 'magnitude', 'origin_time', 'latitude', 'longitude',\nand 'depth'.\n\n"
      ]
    },
    {
      "cell_type": "code",
      "execution_count": null,
      "metadata": {
        "collapsed": false
      },
      "outputs": [],
      "source": [
        "catalog = catalog.filter('magnitude >= 3.5')\nprint(catalog)"
      ]
    },
    {
      "cell_type": "markdown",
      "metadata": {},
      "source": [
        "## Filter to desired time interval\n\nWe need to define desired start and end times for the catalog using a time-string format. PyCSEP uses integer times for doing\ntime manipulations. Time strings can be converted into integer times using\n:func:`csep.utils.time_utils.strptime_to_utc_epoch`. The :meth:`csep.core.catalog.AbstractBaseCatalog.filter` also\naccepts a list of strings to apply multiple filters. Note: The number of events may differ if this script is ran\nat a later date than shown in this example.\n\n"
      ]
    },
    {
      "cell_type": "code",
      "execution_count": null,
      "metadata": {
        "collapsed": false
      },
      "outputs": [],
      "source": [
        "# create epoch times from time-string formats\nstart_epoch = csep.utils.time_utils.strptime_to_utc_epoch('2019-07-06 03:19:54.040000')\nend_epoch = csep.utils.time_utils.strptime_to_utc_epoch('2019-09-21 03:19:54.040000')\n\n# filter catalog to magnitude ranges and times\nfilters = [f'origin_time >= {start_epoch}', f'origin_time < {end_epoch}']\ncatalog = catalog.filter(filters)\nprint(catalog)"
      ]
    },
    {
      "cell_type": "markdown",
      "metadata": {},
      "source": [
        "## Filter to desired spatial region\n\nWe use a circular spatial region with a radius of 3 average fault lengths as defined by the Wells and Coppersmith scaling\nrelationship. PyCSEP provides :func:`csep.utils.spatial.generate_aftershock_region` to create an aftershock region\nbased on the magnitude and epicenter of an event.\n\nWe use :func:`csep.utils.comcat.get_event_by_id` the ComCat API provided by the USGS to obtain the event information\nfrom the M7.1 Ridgecrest mainshock.\n\n"
      ]
    },
    {
      "cell_type": "code",
      "execution_count": null,
      "metadata": {
        "collapsed": false
      },
      "outputs": [],
      "source": [
        "m71_event_id = 'ci38457511'\nevent = comcat.get_event_by_id(m71_event_id)\nm71_epoch = time_utils.datetime_to_utc_epoch(event.time)\n\n# build aftershock region\naftershock_region = regions.generate_aftershock_region(event.magnitude, event.longitude, event.latitude)\n\n# apply new aftershock region and magnitude of completeness\ncatalog = catalog.filter_spatial(aftershock_region).apply_mct(event.magnitude, m71_epoch)\nprint(catalog)"
      ]
    },
    {
      "cell_type": "markdown",
      "metadata": {},
      "source": [
        "## Write catalog\n\nUse :meth:`csep.core.catalogs.AbstractBaseCatalog.write_ascii` to write the catalog into the comma separated value format.\n\n"
      ]
    },
    {
      "cell_type": "code",
      "execution_count": null,
      "metadata": {
        "collapsed": false
      },
      "outputs": [],
      "source": [
        "catalog.write_ascii('2019-11-11-comcat.csv')"
      ]
    }
  ],
  "metadata": {
    "kernelspec": {
      "display_name": "Python 3",
      "language": "python",
      "name": "python3"
    },
    "language_info": {
      "codemirror_mode": {
        "name": "ipython",
        "version": 3
      },
      "file_extension": ".py",
      "mimetype": "text/x-python",
      "name": "python",
      "nbconvert_exporter": "python",
      "pygments_lexer": "ipython3",
      "version": "3.9.21"
    }
  },
  "nbformat": 4,
  "nbformat_minor": 0
}